{
  "nbformat": 4,
  "nbformat_minor": 0,
  "metadata": {
    "colab": {
      "provenance": []
    },
    "kernelspec": {
      "name": "python3",
      "display_name": "Python 3"
    },
    "language_info": {
      "name": "python"
    }
  },
  "cells": [
    {
      "cell_type": "code",
      "execution_count": null,
      "metadata": {
        "id": "CZiVT47Nfelm"
      },
      "outputs": [],
      "source": [
        "import pandas as pd\n",
        "import numpy as np\n",
        "import matplotlib.pyplot as plt\n",
        "import seaborn as sns"
      ]
    },
    {
      "cell_type": "code",
      "source": [
        "# Load data\n",
        "iris = pd.read_csv(\"IRIS.csv\")\n",
        "x = iris.iloc[:, [0, 1, 2, 3]].values"
      ],
      "metadata": {
        "id": "HV1tp5OFfwOU"
      },
      "execution_count": null,
      "outputs": []
    },
    {
      "cell_type": "code",
      "source": [
        "# Info and head\n",
        "iris.info()\n",
        "print(iris.head(10))"
      ],
      "metadata": {
        "id": "rJnz_taxfzF7"
      },
      "execution_count": null,
      "outputs": []
    },
    {
      "cell_type": "code",
      "source": [
        "# Frequency distribution of species\n",
        "iris_outcome = pd.crosstab(index=iris[\"species\"], columns=\"count\")\n",
        "print(iris_outcome)"
      ],
      "metadata": {
        "id": "83ScHfcvf2Ht"
      },
      "execution_count": null,
      "outputs": []
    },
    {
      "cell_type": "code",
      "source": [
        "# Subsets\n",
        "iris_setosa = iris.loc[iris[\"species\"] == \"Iris-setosa\"]\n",
        "iris_virginica = iris.loc[iris[\"species\"] == \"Iris-virginica\"]\n",
        "iris_versicolor = iris.loc[iris[\"species\"] == \"Iris-versicolor\"]"
      ],
      "metadata": {
        "id": "XumdkYz2gejV"
      },
      "execution_count": null,
      "outputs": []
    },
    {
      "cell_type": "code",
      "source": [
        "# Distribution plots\n",
        "sns.FacetGrid(iris, hue=\"species\", height=3).map(sns.kdeplot, \"petal_length\").add_legend()\n",
        "plt.show()\n",
        "\n",
        "sns.FacetGrid(iris, hue=\"species\", height=3).map(sns.kdeplot, \"petal_width\").add_legend()\n",
        "plt.show()\n",
        "\n",
        "sns.FacetGrid(iris, hue=\"species\", height=3).map(sns.kdeplot, \"sepal_length\").add_legend()\n",
        "plt.show()"
      ],
      "metadata": {
        "id": "8Rk7b21XgaOy"
      },
      "execution_count": null,
      "outputs": []
    },
    {
      "cell_type": "code",
      "source": [
        "# Boxplot\n",
        "sns.boxplot(x=\"species\", y=\"petal_length\", data=iris)\n",
        "plt.show()"
      ],
      "metadata": {
        "id": "-M_3JqOYgW49"
      },
      "execution_count": null,
      "outputs": []
    },
    {
      "cell_type": "code",
      "source": [
        "# Violinplot\n",
        "sns.violinplot(x=\"species\", y=\"petal_length\", data=iris)\n",
        "plt.show()"
      ],
      "metadata": {
        "id": "l7v58iGWgOPK"
      },
      "execution_count": null,
      "outputs": []
    },
    {
      "cell_type": "code",
      "source": [
        "# Pairplot\n",
        "sns.set_style(\"whitegrid\")\n",
        "sns.pairplot(iris, hue=\"species\", height=3)\n",
        "plt.show()"
      ],
      "metadata": {
        "id": "9lZIEMpqgDUs"
      },
      "execution_count": null,
      "outputs": []
    }
  ]
}