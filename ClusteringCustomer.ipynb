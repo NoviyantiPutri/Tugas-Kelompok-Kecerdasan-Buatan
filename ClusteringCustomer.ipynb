{
  "nbformat": 4,
  "nbformat_minor": 0,
  "metadata": {
    "colab": {
      "provenance": []
    },
    "kernelspec": {
      "name": "python3",
      "display_name": "Python 3"
    },
    "language_info": {
      "name": "python"
    }
  },
  "cells": [
    {
      "cell_type": "code",
      "execution_count": null,
      "metadata": {
        "id": "CZiVT47Nfelm"
      },
      "outputs": [],
      "source": [
        "import numpy as np\n",
        "import pandas as pd\n",
        "import matplotlib.pyplot as plt\n",
        "import seaborn as sns\n",
        "\n",
        "import plotly.offline as pyo\n",
        "import plotly.graph_objs as go\n",
        "\n",
        "from sklearn.cluster import KMeans\n",
        "import warnings\n",
        "\n",
        "# Settings\n",
        "warnings.filterwarnings('ignore')"
      ]
    },
    {
      "cell_type": "code",
      "source": [
        "# Load dataset\n",
        "df = pd.read_csv('Mall_Customers.csv')\n",
        "print(df.head())\n",
        "print(df.columns)\n",
        "print(df.info())\n",
        "print(df.describe())"
      ],
      "metadata": {
        "id": "HV1tp5OFfwOU"
      },
      "execution_count": null,
      "outputs": []
    },
    {
      "cell_type": "code",
      "source": [
        "# Distribution plots\n",
        "plt.figure(1, figsize=(15, 6))\n",
        "for idx, col in enumerate(['Age', 'Annual Income (k$)', 'Spending Score (1-100)']):\n",
        "    plt.subplot(1, 3, idx + 1)\n",
        "    plt.subplots_adjust(hspace=0.5, wspace=0.5)\n",
        "    sns.histplot(df[col], bins=15, kde=True)\n",
        "    plt.title(f'Distplot of {col}')\n",
        "plt.show()"
      ],
      "metadata": {
        "id": "rJnz_taxfzF7"
      },
      "execution_count": null,
      "outputs": []
    },
    {
      "cell_type": "code",
      "source": [
        "# Pairplot\n",
        "sns.pairplot(df, vars=['Spending Score (1-100)', 'Annual Income (k$)', 'Age'], hue=\"Gender\")\n",
        "plt.show()"
      ],
      "metadata": {
        "id": "83ScHfcvf2Ht"
      },
      "execution_count": null,
      "outputs": []
    },
    {
      "cell_type": "code",
      "source": [
        "# Scatter plot Age vs Spending Score\n",
        "plt.figure(figsize=(15, 7))\n",
        "plt.title('Scatter plot of Age vs Spending Score', fontsize=20)\n",
        "plt.xlabel('Age')\n",
        "plt.ylabel('Spending Score (1-100)')\n",
        "plt.scatter(df['Age'], df['Spending Score (1-100)'], s=100)\n",
        "plt.show()"
      ],
      "metadata": {
        "id": "XumdkYz2gejV"
      },
      "execution_count": null,
      "outputs": []
    },
    {
      "cell_type": "code",
      "source": [
        "# Clustering Age vs Spending Score\n",
        "X1 = df[['Age', 'Spending Score (1-100)']].values"
      ],
      "metadata": {
        "id": "8Rk7b21XgaOy"
      },
      "execution_count": null,
      "outputs": []
    },
    {
      "cell_type": "code",
      "source": [
        "# Elbow method\n",
        "inertia = []\n",
        "for n in range(1, 15):\n",
        "    model = KMeans(n_clusters=n, init='k-means++', n_init=10, max_iter=300,\n",
        "                   tol=0.0001, random_state=111, algorithm='elkan')\n",
        "    model.fit(X1)\n",
        "    inertia.append(model.inertia_)\n",
        "\n",
        "plt.figure(figsize=(15, 6))\n",
        "plt.plot(range(1, 15), inertia, 'o-')\n",
        "plt.xlabel('Number of Clusters')\n",
        "plt.ylabel('Inertia')\n",
        "plt.title('Elbow Method For Optimal k (Age vs Spending Score)')\n",
        "plt.show()"
      ],
      "metadata": {
        "id": "-M_3JqOYgW49"
      },
      "execution_count": null,
      "outputs": []
    },
    {
      "cell_type": "code",
      "source": [
        "# KMeans with 4 clusters\n",
        "kmeans1 = KMeans(n_clusters=4, init='k-means++', n_init=10, max_iter=300,\n",
        "                 tol=0.0001, random_state=111, algorithm='elkan')\n",
        "labels1 = kmeans1.fit_predict(X1)\n",
        "centroids1 = kmeans1.cluster_centers_"
      ],
      "metadata": {
        "id": "l7v58iGWgOPK"
      },
      "execution_count": null,
      "outputs": []
    },
    {
      "cell_type": "code",
      "source": [
        "# Plot clusters\n",
        "h = 0.02\n",
        "x_min, x_max = X1[:, 0].min() - 1, X1[:, 0].max() + 1\n",
        "y_min, y_max = X1[:, 1].min() - 1, X1[:, 1].max() + 1\n",
        "xx, yy = np.meshgrid(np.arange(x_min, x_max, h), np.arange(y_min, y_max, h))\n",
        "Z = kmeans1.predict(np.c_[xx.ravel(), yy.ravel()])\n",
        "Z = Z.reshape(xx.shape)\n",
        "\n",
        "plt.figure(figsize=(15, 7))\n",
        "plt.imshow(Z, interpolation='nearest',\n",
        "           extent=(xx.min(), xx.max(), yy.min(), yy.max()),\n",
        "           cmap=plt.cm.Pastel2, aspect='auto', origin='lower')\n",
        "plt.scatter(df['Age'], df['Spending Score (1-100)'], c=labels1, s=100)\n",
        "plt.scatter(centroids1[:, 0], centroids1[:, 1], s=300, c='red', alpha=0.5)\n",
        "plt.xlabel('Age')\n",
        "plt.ylabel('Spending Score (1-100)')\n",
        "plt.title('Clusters of Customers (Age vs Spending Score)')\n",
        "plt.show()"
      ],
      "metadata": {
        "id": "9lZIEMpqgDUs"
      },
      "execution_count": null,
      "outputs": []
    },
    {
      "cell_type": "code",
      "source": [
        "# Clustering Annual Income vs Spending Score\n",
        "X2 = df[['Annual Income (k$)', 'Spending Score (1-100)']].values"
      ],
      "metadata": {
        "id": "OSLNu1RIpPdj"
      },
      "execution_count": null,
      "outputs": []
    },
    {
      "cell_type": "code",
      "source": [
        "# Elbow method\n",
        "inertia = []\n",
        "for n in range(1, 11):\n",
        "    model = KMeans(n_clusters=n, init='k-means++', n_init=10, max_iter=300,\n",
        "                   tol=0.0001, random_state=111, algorithm='elkan')\n",
        "    model.fit(X2)\n",
        "    inertia.append(model.inertia_)\n",
        "\n",
        "plt.figure(figsize=(15, 6))\n",
        "plt.plot(range(1, 11), inertia, 'o-')\n",
        "plt.xlabel('Number of Clusters')\n",
        "plt.ylabel('Inertia')\n",
        "plt.title('Elbow Method For Optimal k (Income vs Spending Score)')\n",
        "plt.show()"
      ],
      "metadata": {
        "id": "skJGX7HlpS52"
      },
      "execution_count": null,
      "outputs": []
    },
    {
      "cell_type": "code",
      "source": [
        "# KMeans with 5 clusters\n",
        "kmeans2 = KMeans(n_clusters=5, init='k-means++', n_init=10, max_iter=300,\n",
        "                 tol=0.0001, random_state=111, algorithm='elkan')\n",
        "labels2 = kmeans2.fit_predict(X2)\n",
        "centroids2 = kmeans2.cluster_centers_"
      ],
      "metadata": {
        "id": "BGVW_qoXpQuL"
      },
      "execution_count": null,
      "outputs": []
    },
    {
      "cell_type": "code",
      "source": [
        "# Plot clusters\n",
        "h = 0.02\n",
        "x_min, x_max = X2[:, 0].min() - 1, X2[:, 0].max() + 1\n",
        "y_min, y_max = X2[:, 1].min() - 1, X2[:, 1].max() + 1\n",
        "xx, yy = np.meshgrid(np.arange(x_min, x_max, h), np.arange(y_min, y_max, h))\n",
        "Z2 = kmeans2.predict(np.c_[xx.ravel(), yy.ravel()])\n",
        "Z2 = Z2.reshape(xx.shape)\n",
        "\n",
        "plt.figure(figsize=(15, 7))\n",
        "plt.imshow(Z2, interpolation='nearest',\n",
        "           extent=(xx.min(), xx.max(), yy.min(), yy.max()),\n",
        "           cmap=plt.cm.Pastel2, aspect='auto', origin='lower')\n",
        "plt.scatter(df['Annual Income (k$)'], df['Spending Score (1-100)'], c=labels2, s=100)\n",
        "plt.scatter(centroids2[:, 0], centroids2[:, 1], s=300, c='red', alpha=0.5)\n",
        "plt.xlabel('Annual Income (k$)')\n",
        "plt.ylabel('Spending Score (1-100)')\n",
        "plt.title('Clusters of Customers (Income vs Spending Score)')\n",
        "plt.show()"
      ],
      "metadata": {
        "id": "fFUTaR-jpZwk"
      },
      "execution_count": null,
      "outputs": []
    },
    {
      "cell_type": "code",
      "source": [
        "# Clustering Age, Annual Income, and Spending Score\n",
        "X3 = df[['Age', 'Annual Income (k$)', 'Spending Score (1-100)']].values"
      ],
      "metadata": {
        "id": "GyCiWMFQpidF"
      },
      "execution_count": null,
      "outputs": []
    },
    {
      "cell_type": "code",
      "source": [
        "# Elbow method\n",
        "inertia = []\n",
        "for n in range(1, 11):\n",
        "    model = KMeans(n_clusters=n, init='k-means++', n_init=10, max_iter=300,\n",
        "                   tol=0.0001, random_state=111, algorithm='elkan')\n",
        "    model.fit(X3)\n",
        "    inertia.append(model.inertia_)\n",
        "\n",
        "plt.figure(figsize=(15, 6))\n",
        "plt.plot(range(1, 11), inertia, 'o-')\n",
        "plt.xlabel('Number of Clusters')\n",
        "plt.ylabel('Inertia')\n",
        "plt.title('Elbow Method For Optimal k (Age, Income, Spending Score)')\n",
        "plt.show()"
      ],
      "metadata": {
        "id": "EgT9DTw_pnuq"
      },
      "execution_count": null,
      "outputs": []
    },
    {
      "cell_type": "code",
      "source": [
        "# KMeans with 6 clusters\n",
        "kmeans3 = KMeans(n_clusters=6, init='k-means++', n_init=10, max_iter=300,\n",
        "                 tol=0.0001, random_state=111, algorithm='elkan')\n",
        "labels3 = kmeans3.fit_predict(X3)\n",
        "df['cluster'] = labels3"
      ],
      "metadata": {
        "id": "luDIicjDpqmw"
      },
      "execution_count": null,
      "outputs": []
    },
    {
      "cell_type": "code",
      "source": [
        "# 3D plot\n",
        "trace1 = go.Scatter3d(\n",
        "    x=df['Age'],\n",
        "    y=df['Spending Score (1-100)'],\n",
        "    z=df['Annual Income (k$)'],\n",
        "    mode='markers',\n",
        "    marker=dict(\n",
        "        color=df['cluster'],\n",
        "        size=10,\n",
        "        line=dict(\n",
        "            color=df['cluster'],\n",
        "            width=12\n",
        "        ),\n",
        "        opacity=0.8\n",
        "    )\n",
        ")\n",
        "\n",
        "data = [trace1]\n",
        "layout = go.Layout(\n",
        "    title='Clusters with respect to Age, Income, and Spending Score',\n",
        "    scene=dict(\n",
        "        xaxis=dict(title='Age'),\n",
        "        yaxis=dict(title='Spending Score'),\n",
        "        zaxis=dict(title='Annual Income')\n",
        "    )\n",
        ")\n",
        "\n",
        "fig = go.Figure(data=data, layout=layout)\n",
        "pyo.iplot(fig)"
      ],
      "metadata": {
        "id": "0uguUN0Cpv37"
      },
      "execution_count": null,
      "outputs": []
    }
  ]
}